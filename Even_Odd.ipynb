{
 "cells": [
  {
   "cell_type": "code",
   "execution_count": 1,
   "id": "99d34223",
   "metadata": {},
   "outputs": [
    {
     "name": "stdout",
     "output_type": "stream",
     "text": [
      "1,2,3,4,5,6,7,8,9\n",
      "Number of even numbers: 4\n",
      "Number of odd numbers: 5\n"
     ]
    }
   ],
   "source": [
    "numbers=(input())\n",
    "numbers_list=numbers.split(\",\")\n",
    "Even_count=0\n",
    "Odd_count=0\n",
    "for i in numbers_list:\n",
    "    x=int(i)\n",
    "    if(x%2)==0:\n",
    "        Even_count+=1\n",
    "    else:\n",
    "        Odd_count+=1\n",
    "print(\"Number of even numbers:\",Even_count)\n",
    "print(\"Number of odd numbers:\",Odd_count)"
   ]
  },
  {
   "cell_type": "code",
   "execution_count": null,
   "id": "0d743868",
   "metadata": {},
   "outputs": [],
   "source": []
  }
 ],
 "metadata": {
  "kernelspec": {
   "display_name": "Python 3 (ipykernel)",
   "language": "python",
   "name": "python3"
  },
  "language_info": {
   "codemirror_mode": {
    "name": "ipython",
    "version": 3
   },
   "file_extension": ".py",
   "mimetype": "text/x-python",
   "name": "python",
   "nbconvert_exporter": "python",
   "pygments_lexer": "ipython3",
   "version": "3.10.1"
  }
 },
 "nbformat": 4,
 "nbformat_minor": 5
}
