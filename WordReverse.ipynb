{
 "cells": [
  {
   "cell_type": "code",
   "execution_count": 2,
   "id": "111d0f5c",
   "metadata": {},
   "outputs": [
    {
     "name": "stdout",
     "output_type": "stream",
     "text": [
      "Sai\n",
      "iaS\n"
     ]
    }
   ],
   "source": [
    "str1 = input()\n",
    "rev_str=''\n",
    "count=len(str1)\n",
    "while count>0:\n",
    "    rev_str+=str1[count-1]\n",
    "    count-=1\n",
    "print(rev_str)"
   ]
  },
  {
   "cell_type": "code",
   "execution_count": null,
   "id": "391a3993",
   "metadata": {},
   "outputs": [],
   "source": []
  }
 ],
 "metadata": {
  "kernelspec": {
   "display_name": "Python 3 (ipykernel)",
   "language": "python",
   "name": "python3"
  },
  "language_info": {
   "codemirror_mode": {
    "name": "ipython",
    "version": 3
   },
   "file_extension": ".py",
   "mimetype": "text/x-python",
   "name": "python",
   "nbconvert_exporter": "python",
   "pygments_lexer": "ipython3",
   "version": "3.10.1"
  }
 },
 "nbformat": 4,
 "nbformat_minor": 5
}
